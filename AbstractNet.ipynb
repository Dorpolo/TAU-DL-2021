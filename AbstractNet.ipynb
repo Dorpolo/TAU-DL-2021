{
 "cells": [
  {
   "cell_type": "markdown",
   "id": "5ebd7ff9-b64d-4300-a90f-91709e017cb6",
   "metadata": {},
   "source": [
    "# HW 1 - Building a network from scratch"
   ]
  },
  {
   "cell_type": "markdown",
   "id": "653560dd-b61c-4ab1-a9d7-6465bc2d8e9f",
   "metadata": {},
   "source": [
    "* x1, x2, x3 = (1, 2, -1)\n",
    "* Weights have been initated with 1. value\n",
    "* Biases have been initated with 0 value\n",
    "* The reuqired network must include 2 hidden layers, with 2 neurons in each layer\n",
    "* One dimension output layer\n",
    "* true y value = 1\n"
   ]
  },
  {
   "cell_type": "markdown",
   "id": "91f379af-803f-458c-ada3-ca9ed8d6cd0e",
   "metadata": {},
   "source": [
    "# Loading required packages "
   ]
  },
  {
   "cell_type": "code",
   "execution_count": 2,
   "id": "f0bc4caa-197f-4349-a802-b99d4da8eae8",
   "metadata": {},
   "outputs": [],
   "source": [
    "import pandas as pd\n",
    "import numpy as np\n",
    "import numpy.typing as npt"
   ]
  },
  {
   "cell_type": "markdown",
   "id": "18827768-58e5-4add-a7e7-cb07bb1c2d97",
   "metadata": {},
   "source": [
    "### Abstract Class - Layer"
   ]
  },
  {
   "cell_type": "code",
   "execution_count": 3,
   "id": "cd4d09e1-69e9-45b3-bca1-9b9d6daf2b5a",
   "metadata": {},
   "outputs": [],
   "source": [
    "from abc import ABC, abstractclassmethod\n",
    "\n",
    "class Layer(ABC):\n",
    "    def __init__(self):\n",
    "        self.input = None\n",
    "        self.output = None\n",
    "    \n",
    "    @abstractclassmethod\n",
    "    def forward_prop(self, input):\n",
    "        pass\n",
    "    \n",
    "    @abstractclassmethod\n",
    "    def backward_prop(self, input):\n",
    "        pass"
   ]
  },
  {
   "cell_type": "markdown",
   "id": "6582858a-45f7-46ea-a969-d202eda93cb1",
   "metadata": {
    "tags": []
   },
   "source": [
    "### Recall - \n",
    "\n",
    "    * DE/DX = (DE/DY)*W.T\n",
    "    * DE/DW = X.T*(DE/DY)\n",
    "    * DE/DB = DE/DY"
   ]
  },
  {
   "cell_type": "markdown",
   "id": "2913a825-9f1a-4fdc-9fa3-9db3a53f44fd",
   "metadata": {},
   "source": [
    "### Fully Connected && Activation Layer Classes"
   ]
  },
  {
   "cell_type": "code",
   "execution_count": 5,
   "id": "8eeb0644-5f9f-4c82-8e2b-3f94a3d2069f",
   "metadata": {},
   "outputs": [],
   "source": [
    "class ActivationLayer(Layer):\n",
    "    def __init__(self, activation, d_activation):\n",
    "        self.activation = activation\n",
    "        self.d_activation = d_activation\n",
    "    \n",
    "    def forward_prop(self, input_data: npt.ArrayLike) -> npt.ArrayLike:\n",
    "        self.input = input_data\n",
    "        self.output = self.activation(self.input)\n",
    "        return self.output\n",
    "    \n",
    "    def backward_prop(self, output_err: npt.ArrayLike, lr) -> npt.ArrayLike:\n",
    "        return self.d_activation(self.input) * output_err\n",
    "    \n",
    "    \n",
    "class FullyConnectedLayer(Layer):\n",
    "    def __init__(self, input_size, output_size, hw_1_init: bool = False):\n",
    "        if hw_1_init:\n",
    "            self.weights = np.ones((input_size, output_size)) \n",
    "            self.bias = np.zeros((1, 1))\n",
    "        else:\n",
    "            self.weights = np.random.rand(input_size, output_size) - 0.5\n",
    "            self.bias = np.random.rand(1, output_size) - 0.5\n",
    "        \n",
    "        \n",
    "    def forward_prop(self, input_data: npt.ArrayLike) -> npt.ArrayLike:\n",
    "        self.input = input_data\n",
    "        self.output = np.dot(self.input, self.weights) + self.bias\n",
    "        return self.output\n",
    "        \n",
    "    def backward_prop(self, output_err: npt.ArrayLike, lr: float) -> npt.ArrayLike:\n",
    "        input_err = np.dot(output_err, self.weights.T)\n",
    "        weights_err = np.dot(self.input.T, output_err)\n",
    "        \n",
    "        self.weights -= lr * weights_err\n",
    "        self.bias -= lr * output_err\n",
    "        return input_err"
   ]
  },
  {
   "cell_type": "markdown",
   "id": "35c6b2f8-b53b-4844-ba3b-e660cc05ffbb",
   "metadata": {},
   "source": [
    "### Network"
   ]
  },
  {
   "cell_type": "code",
   "execution_count": 6,
   "id": "4cc01e26-9b36-416e-8909-05a49a650de6",
   "metadata": {},
   "outputs": [],
   "source": [
    "from __future__ import annotations\n",
    "\n",
    "class Network:\n",
    "    \n",
    "    def __init__(self):\n",
    "        self.layers = []\n",
    "        self.loss = None\n",
    "        self.d_loss = None\n",
    "    \n",
    "    def add(self, layer: Layer):\n",
    "        self.layers.append(layer)\n",
    "    \n",
    "    def use(self, loss, d_loss):\n",
    "        self.loss = loss\n",
    "        self.d_loss = d_loss\n",
    "    \n",
    "    def predict(self, input_data: npt.ArrayLike) -> list:\n",
    "        samples = len(input_data)\n",
    "        result = []\n",
    "    \n",
    "        for i in range(samples):\n",
    "            output = input_data[i]\n",
    "            for layer in self.layers:\n",
    "                output = layer.forward_prop(output)\n",
    "            result.append(output)\n",
    "            \n",
    "        return result\n",
    "    \n",
    "    def fit(self, x_train: npt.ArrayLike, y_train: npt.ArrayLike, epochs: int, lr: float):\n",
    "        samples = len(x_train)\n",
    "        \n",
    "        for i in range(epochs):\n",
    "            err = 0\n",
    "            for j in range(samples):\n",
    "                output = x_train[j]\n",
    "                for layer in self.layers:\n",
    "                    output = layer.forward_prop(output)\n",
    "                \n",
    "                err += self.loss(y_train[j], output)\n",
    "                \n",
    "                error = self.d_loss(y_train[j], output)\n",
    "                for layer in reversed(self.layers):\n",
    "                    error = layer.backward_prop(error, lr)\n",
    "            \n",
    "            err /= samples\n",
    "            print(f\"Epoch {i+1}/{epochs} >> error={err}\")\n",
    "        "
   ]
  },
  {
   "cell_type": "markdown",
   "id": "191bc3fb-6c3c-4377-a1e9-c269078f114e",
   "metadata": {},
   "source": [
    "### Util Functions"
   ]
  },
  {
   "cell_type": "code",
   "execution_count": 7,
   "id": "a09c6395-de88-4ea9-8990-70ad69cdac1b",
   "metadata": {},
   "outputs": [],
   "source": [
    "def ReLU(x):\n",
    "    return np.clip(x, 0, None)\n",
    "\n",
    "def d_ReLU(x):\n",
    "    x[x<=0] = 0\n",
    "    x[x>0] = 1\n",
    "    return x\n",
    "\n",
    "def sigmoid(x):\n",
    "    return 1/(1 + np.exp(-x))\n",
    "\n",
    "def d_sigmoid(x):\n",
    "    return (1 - sigmoid(x)) * sigmoid(x)\n",
    "\n",
    "def mse(y_true, y_pred):\n",
    "    return np.mean(np.power(y_true-y_pred, 2))\n",
    "\n",
    "def d_mse(y_true, y_pred):\n",
    "    return 2*(y_pred-y_true)/y_true.size"
   ]
  },
  {
   "cell_type": "markdown",
   "id": "dcf754fb-264a-4706-9de2-7f00682c1a7d",
   "metadata": {},
   "source": [
    "### My Inputs"
   ]
  },
  {
   "cell_type": "code",
   "execution_count": 12,
   "id": "ae4d1fbb-04b9-4b96-94d6-a30f71ab7fee",
   "metadata": {},
   "outputs": [],
   "source": [
    "ACT_FUNCTIONS = {\n",
    "    'ReLU': (ReLU, d_ReLU),\n",
    "    'sigmoid': (sigmoid, d_sigmoid)\n",
    "}\n",
    "\n",
    "LEARNING_RATE = 0.1\n",
    "EPOCHS = 3"
   ]
  },
  {
   "cell_type": "markdown",
   "id": "c59a0580-0cd3-4c4a-ba5d-1a517c09869e",
   "metadata": {},
   "source": [
    "### Network Inititation - General Example"
   ]
  },
  {
   "cell_type": "code",
   "execution_count": 13,
   "id": "7d796bc0-ed48-4dc6-a742-0eaa6dec6d44",
   "metadata": {},
   "outputs": [
    {
     "name": "stdout",
     "output_type": "stream",
     "text": [
      "Epoch 1/3 >> error=0.39409703339126734\n",
      "Epoch 2/3 >> error=0.35977136247984576\n",
      "Epoch 3/3 >> error=0.35225563438894236\n"
     ]
    }
   ],
   "source": [
    "x_train = np.array([[[0,0]], [[0,1]], [[1,0]], [[1,1]]])\n",
    "y_train = np.array([[[0]], [[1]], [[1]], [[0]]])\n",
    "\n",
    "net = Network()\n",
    "net.add(FullyConnectedLayer(2, 3))\n",
    "net.add(ActivationLayer(*ACT_FUNCTIONS['ReLU']))\n",
    "net.add(FullyConnectedLayer(3, 1))\n",
    "net.add(ActivationLayer(*ACT_FUNCTIONS['ReLU']))\n",
    "\n",
    "net.use(mse, d_mse)\n",
    "net.fit(x_train, y_train, epochs=EPOCHS, lr=LEARNING_RATE)"
   ]
  },
  {
   "cell_type": "markdown",
   "id": "0cfa2a9b-6bb4-413b-af35-bf0d07d515bb",
   "metadata": {},
   "source": [
    "### Network Inititation - Home Work I"
   ]
  },
  {
   "cell_type": "code",
   "execution_count": 14,
   "id": "fc18ae11-01ee-4f27-9343-47bad9c1b197",
   "metadata": {},
   "outputs": [],
   "source": [
    "x_train_hw = np.array([[1], [2], [-1]])\n",
    "y_train_hw = np.array([[0]])\n",
    "\n",
    "\n",
    "net_hw1 = Network()\n",
    "net_hw1.add(FullyConnectedLayer(3, 2, hw_1_init=True))\n",
    "net_hw1.add(ActivationLayer(*ACT_FUNCTIONS['ReLU']))\n",
    "net_hw1.add(FullyConnectedLayer(2, 2, hw_1_init=True))\n",
    "net_hw1.add(ActivationLayer(*ACT_FUNCTIONS['ReLU']))\n",
    "\n",
    "net_hw1.use(mse, d_mse)\n",
    "# net_hw1.fit(x_train_hw, y_train_hw, epochs=EPOCHS, lr=LEARNING_RATE)"
   ]
  }
 ],
 "metadata": {
  "kernelspec": {
   "display_name": "DL",
   "language": "python",
   "name": "dl"
  },
  "language_info": {
   "codemirror_mode": {
    "name": "ipython",
    "version": 3
   },
   "file_extension": ".py",
   "mimetype": "text/x-python",
   "name": "python",
   "nbconvert_exporter": "python",
   "pygments_lexer": "ipython3",
   "version": "3.8.10"
  }
 },
 "nbformat": 4,
 "nbformat_minor": 5
}
