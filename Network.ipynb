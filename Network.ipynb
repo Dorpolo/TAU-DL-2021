{
 "cells": [
  {
   "cell_type": "markdown",
   "id": "5ebd7ff9-b64d-4300-a90f-91709e017cb6",
   "metadata": {},
   "source": [
    "# HW 1 - Building a network from scratch"
   ]
  },
  {
   "cell_type": "markdown",
   "id": "653560dd-b61c-4ab1-a9d7-6465bc2d8e9f",
   "metadata": {},
   "source": [
    "* x1, x2, x3 = (1, 2, -1)\n",
    "* Weights have been initated with 1. value\n",
    "* Biases have been initated with 0 value\n",
    "* The reuqired network must include 2 hidden layers, with 2 neurons in each layer\n",
    "* One dimension output layer\n",
    "* true y value = 1\n"
   ]
  },
  {
   "cell_type": "markdown",
   "id": "91f379af-803f-458c-ada3-ca9ed8d6cd0e",
   "metadata": {},
   "source": [
    "# Loading required packages "
   ]
  },
  {
   "cell_type": "code",
   "execution_count": null,
   "id": "f0bc4caa-197f-4349-a802-b99d4da8eae8",
   "metadata": {},
   "outputs": [],
   "source": [
    "import pandas as pd\n",
    "import numpy as np\n",
    "import numpy.typing as npt"
   ]
  },
  {
   "cell_type": "markdown",
   "id": "239edf23-9d26-4e9c-89de-a2f41b7d6000",
   "metadata": {},
   "source": [
    "# Utils functions"
   ]
  },
  {
   "cell_type": "code",
   "execution_count": 163,
   "id": "dcaee7ab-e6f0-4b9e-b438-b6838b91ad32",
   "metadata": {},
   "outputs": [],
   "source": [
    "def ReLU(x):\n",
    "    return np.clip(x, 0, None)\n",
    "\n",
    "def d_ReLU(x):\n",
    "    x[x<=0] = 0\n",
    "    x[x>0] = 1\n",
    "    return x\n",
    "\n",
    "def loss(y_pred: npt.ArrayLike, y_true: npt.ArrayLike):\n",
    "    return ((y_pred - y_true) ** 2).mean()\n",
    "\n",
    "def d_loss(y_pred: npt.ArrayLike, y_true: npt.ArrayLike):\n",
    "    n = y_true.shape[0]\n",
    "    gradient = 2. * (y_pred - y_true) / n\n",
    "    return gradient"
   ]
  },
  {
   "cell_type": "markdown",
   "id": "800748b4-5c20-4d82-9460-95e678f2bab6",
   "metadata": {},
   "source": [
    "# The *Layer* class - OOP\n",
    "\n",
    " * The learning rate is set to 0.01\n",
    " * The activation function is ReLU"
   ]
  },
  {
   "cell_type": "code",
   "execution_count": 175,
   "id": "57b6da75-6594-4673-a86a-a38b2cb8adda",
   "metadata": {},
   "outputs": [],
   "source": [
    "class Layer:\n",
    "\n",
    "    activationFunctions = {\n",
    "        'ReLU': (ReLU, d_ReLU)\n",
    "    }\n",
    "    \n",
    "    lr = 0.1\n",
    "    \n",
    "    def __init__(self, neurons: int, inputs: int, activation: str = 'ReLU'):\n",
    "        \"\"\"\n",
    "        The layer instance should be initiated with the input count and number of neurons.\n",
    "        \"\"\"\n",
    "        self.W = np.ones((neurons, inputs))\n",
    "        self.b = np.zeros((neurons, 1))\n",
    "        self.act, self.d_act = self.activationFunctions.get(activation)\n",
    "        \n",
    "    def forward(self, A_prev: npt.ArrayLike) -> npt.ArrayLike:\n",
    "        \"\"\"\n",
    "        Each forward step will calculate the next layer neurin as a function of its prev input and current \n",
    "        weight dot product, on top of that, the activation function will be applied.\n",
    "        \"\"\"\n",
    "        self.A_prev = A_prev\n",
    "        self.Z = np.dot(self.W, self.A_prev) + self.b\n",
    "        self.A = self.act(self.Z)\n",
    "        return self.A\n",
    "        \n",
    "    def backprop(self, dA: npt.ArrayLike) -> npt.ArrayLike:\n",
    "        dZ = np.multiply(self.d_act(self.Z), dA)\n",
    "        dW = 1/dZ.shape[1] * np.dot(dZ, self.A_prev.T)\n",
    "        db = 1/dZ.shape[1] * np.sum(dZ, axis=1, keepdims=True)\n",
    "        dA_prev = np.dot(self.W.T, dZ)\n",
    "        \n",
    "        self.W = self.W - self.lr * dW\n",
    "        self.b = self.b - self.lr * db\n",
    "        \n",
    "        return dA_prev"
   ]
  },
  {
   "cell_type": "code",
   "execution_count": 172,
   "id": "f8e3f25c-db80-420f-a135-d69e1cd10109",
   "metadata": {},
   "outputs": [
    {
     "name": "stderr",
     "output_type": "stream",
     "text": [
      "/var/folders/lp/6r5p1rqs5kn81svbrkhbrjcc0000gn/T/ipykernel_50832/557082291.py:10: RuntimeWarning: overflow encountered in square\n",
      "  return ((y_pred - y_true) ** 2).mean()\n"
     ]
    }
   ],
   "source": [
    "# Given inputs\n",
    "\n",
    "x_train = np.array([[1.0], [2.0], [-1.0]])\n",
    "y_train = np.array([[0]]) \n",
    "\n",
    "m = 1\n",
    "epochs = 10\n",
    "\n",
    "layers = [Layer(2, 3, 'ReLU'), Layer(2, 2, 'ReLU')]\n",
    "costs = []\n",
    "\n",
    "for epoch in range(epochs):\n",
    "    # FORWARD\n",
    "    A = x_train\n",
    "    for layer in layers:\n",
    "        A = layer.forward(A)\n",
    "    \n",
    "    # COSTS\n",
    "    cost = loss(y_train, A)\n",
    "    costs.append(cost)\n",
    "    \n",
    "    # BACKPROP\n",
    "    dA = d_loss(y_train, A)\n",
    "    for layer in reversed(layers):\n",
    "        dA = layer.backprop(dA)\n",
    "\n",
    "        \n",
    "        \n"
   ]
  },
  {
   "cell_type": "code",
   "execution_count": 171,
   "id": "d08c4c3d-d9e0-4abd-9f96-220c062eeb2d",
   "metadata": {},
   "outputs": [
    {
     "data": {
      "text/plain": [
       "array([[inf],\n",
       "       [inf]])"
      ]
     },
     "execution_count": 171,
     "metadata": {},
     "output_type": "execute_result"
    }
   ],
   "source": [
    "A"
   ]
  },
  {
   "cell_type": "code",
   "execution_count": 170,
   "id": "b44ad467-749b-4562-9881-829f2779d30d",
   "metadata": {},
   "outputs": [
    {
     "data": {
      "text/plain": [
       "[<matplotlib.lines.Line2D at 0x7fd1ebe80250>]"
      ]
     },
     "execution_count": 170,
     "metadata": {},
     "output_type": "execute_result"
    },
    {
     "data": {
      "image/png": "[encoded data removed]",
      "text/plain": [
       "<Figure size 432x288 with 1 Axes>"
      ]
     },
     "metadata": {
      "needs_background": "light"
     },
     "output_type": "display_data"
    }
   ],
   "source": [
    "import matplotlib.pyplot as plt\n",
    "plt.plot(range(epochs), costs)"
   ]
  },
  {
   "cell_type": "code",
   "execution_count": 132,
   "id": "5f7fc6cc-abcb-4ee9-80fc-e8227f161a3d",
   "metadata": {},
   "outputs": [
    {
     "data": {
      "text/plain": [
       "array([[2.],\n",
       "       [2.]])"
      ]
     },
     "execution_count": 132,
     "metadata": {},
     "output_type": "execute_result"
    }
   ],
   "source": [
    "np.dot(np.ones((2, 3)), x_train)"
   ]
  },
  {
   "cell_type": "code",
   "execution_count": 126,
   "id": "93866d25-b3b6-4dc4-bf0b-97df0ca120b5",
   "metadata": {},
   "outputs": [
    {
     "name": "stdout",
     "output_type": "stream",
     "text": [
      "[[ 1.79465923 -1.14967739]\n",
      " [ 0.7134093   0.97064347]\n",
      " [ 0.06965023  1.03961191]]\n",
      "[[1. 1.]\n",
      " [1. 1.]\n",
      " [1. 1.]]\n"
     ]
    }
   ],
   "source": [
    "print(np.random.randn(3 , 2))\n",
    "\n",
    "print()"
   ]
  },
  {
   "cell_type": "code",
   "execution_count": 32,
   "id": "7a8545eb-aa5b-4bd7-9b1b-bc4ad1743464",
   "metadata": {},
   "outputs": [],
   "source": [
    "class MSE:\n",
    "    def __call__(self, y_pred, y_true):\n",
    "        self.y_pred = y_pred\n",
    "        self.y_true = y_true\n",
    "        return ((y_pred - y_true) ** 2).mean()\n",
    "    \n",
    "    def backward(self):\n",
    "        n = self.y_true.shape[0]\n",
    "        self.gradient = 2. * (self.y_pred - self.y_true) / n\n",
    "        return self.gradient\n",
    "    \n",
    "\n",
    "class Linear:\n",
    "    def __init__(self, input_dim: int, num_hidden: int = 1):\n",
    "        self.weights = np.random.randn(input_dim, num_hidden) * np.sqrt(2. / input_dim)\n",
    "        self.bias = np.zeros(num_hidden)\n",
    "\n",
    "    def __call__(self, x):\n",
    "        self.x = x\n",
    "        output = x @ self.weights + self.bias\n",
    "        return output\n",
    "\n",
    "    def backward(self, gradient):\n",
    "        self.weights_gradient = self.x.T @ gradient\n",
    "        self.bias_gradient = gradient.sum(axis=0)\n",
    "        self.x_gradient = gradient @ self.weights.T\n",
    "        return self.x_gradient\n",
    "\n",
    "    def update(self, lr):\n",
    "        self.weights = self.weights - lr * self.weights_gradient\n",
    "        self.bias = self.bias - lr * self.bias_gradient"
   ]
  },
  {
   "cell_type": "code",
   "execution_count": 73,
   "id": "2cbe3c11-a26f-40a2-bb34-65524da2c2d6",
   "metadata": {},
   "outputs": [],
   "source": [
    "from typing import Tuple\n",
    "\n",
    "class MSE:\n",
    "    def __call__(self, y_pred: npt.ArrayLike, y_true: npt.ArrayLike):\n",
    "        self.y_pred = y_pred\n",
    "        self.y_true = y_true\n",
    "        return ((y_pred - y_true) ** 2).mean()\n",
    "    \n",
    "    def backward(self):\n",
    "        n = self.y_true.shape[0]\n",
    "        self.gradient = 2. * (self.y_pred - self.y_true) / n\n",
    "        return self.gradient\n",
    "    \n",
    "class Net:\n",
    "    def __init__(self, input_dim: int = 3, num_hidden: int = 2):\n",
    "        self.weights = np.ones((input_dim, num_hidden))\n",
    "        self.bias = np.zeros(num_hidden)\n",
    "    \n",
    "    def __call__(self, x):\n",
    "        self.x = x.T\n",
    "        output = x.T @ self.weights + self.bias\n",
    "        return output\n",
    "    \n",
    "    def backward(self, gradient):\n",
    "        self.weights_gradient = self.x.T @ gradient\n",
    "        self.bias_gradient = gradient.sum(axis=0)\n",
    "        self.x_gradient = gradient @ self.weights.T\n",
    "        return self.x_gradient\n",
    "    \n",
    "    def update(self, lr):\n",
    "        self.weights = self.weights - lr * self.weights_gradient\n",
    "        self.bias = self.bias - lr * self.bias_gradient\n",
    "        \n",
    "class Relu:\n",
    "    def __call__(self, input_):\n",
    "        self.input = input_\n",
    "        self.output = np.clip(self.input__, 0, None)\n",
    "        return self.output\n",
    "    \n",
    "    def backward(self, output_gradient):\n",
    "        self.input_gradient = (self.input_ > 0) * output_gradient\n",
    "        return self.input_gradient"
   ]
  },
  {
   "cell_type": "code",
   "execution_count": 74,
   "id": "861e8d9a-aaf3-4851-89ae-f50b096058be",
   "metadata": {},
   "outputs": [],
   "source": [
    "x = np.array([[1,], [2,], [-1,]])\n",
    "y_true = np.zeros(1)\n",
    "\n",
    "num_epochs = 10\n",
    "lr = 0.1\n",
    "\n",
    "loss = MSE()\n",
    "net = Net(x.shape[0])\n",
    "\n",
    "for epoch in range(num_epochs):\n",
    "    y_pred = net(x)"
   ]
  },
  {
   "cell_type": "code",
   "execution_count": 75,
   "id": "f168c5b9-a5e9-4759-b76a-f14b9783f7ae",
   "metadata": {},
   "outputs": [
    {
     "data": {
      "text/plain": [
       "array([[2., 2.]])"
      ]
     },
     "execution_count": 75,
     "metadata": {},
     "output_type": "execute_result"
    }
   ],
   "source": [
    "y_pred"
   ]
  },
  {
   "cell_type": "code",
   "execution_count": 70,
   "id": "be824b9d-423e-4a93-a4be-18e3a12e6f47",
   "metadata": {},
   "outputs": [
    {
     "data": {
      "text/plain": [
       "array([[2., 2.]])"
      ]
     },
     "execution_count": 70,
     "metadata": {},
     "output_type": "execute_result"
    }
   ],
   "source": [
    "net.weights\n",
    "\n",
    "x.T @ np.ones((3, 2))"
   ]
  },
  {
   "cell_type": "code",
   "execution_count": 61,
   "id": "b8a3eaa1-d264-44c8-a9a5-32c0ea0adcda",
   "metadata": {},
   "outputs": [
    {
     "data": {
      "text/plain": [
       "3"
      ]
     },
     "execution_count": 61,
     "metadata": {},
     "output_type": "execute_result"
    }
   ],
   "source": []
  },
  {
   "cell_type": "code",
   "execution_count": 21,
   "id": "c686b4b6-5cbf-4579-a371-b94fb044c817",
   "metadata": {},
   "outputs": [
    {
     "data": {
      "text/plain": [
       "array([1, 1])"
      ]
     },
     "execution_count": 21,
     "metadata": {},
     "output_type": "execute_result"
    }
   ],
   "source": [
    "np.array([1, 1])"
   ]
  }
 ],
 "metadata": {
  "kernelspec": {
   "display_name": "DL",
   "language": "python",
   "name": "dl"
  },
  "language_info": {
   "codemirror_mode": {
    "name": "ipython",
    "version": 3
   },
   "file_extension": ".py",
   "mimetype": "text/x-python",
   "name": "python",
   "nbconvert_exporter": "python",
   "pygments_lexer": "ipython3",
   "version": "3.8.10"
  }
 },
 "nbformat": 4,
 "nbformat_minor": 5
}
